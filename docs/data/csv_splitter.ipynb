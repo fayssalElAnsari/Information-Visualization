{
 "cells": [
  {
   "cell_type": "code",
   "execution_count": 1,
   "metadata": {},
   "outputs": [],
   "source": [
    "def split_csv(filename, num_splits):\n",
    "    # Determine total number of lines in the CSV file\n",
    "    with open(filename, 'r', encoding='utf-8') as f:\n",
    "        total_lines = sum(1 for line in f) - 1  # subtracting 1 to exclude the header\n",
    "\n",
    "    # Calculate number of lines for each split\n",
    "    lines_per_file = total_lines // num_splits\n",
    "    if total_lines % num_splits:\n",
    "        lines_per_file += 1\n",
    "\n",
    "    # Split the file\n",
    "    with open(filename, 'r', encoding='utf-8') as f:\n",
    "        header = f.readline()\n",
    "        for i in range(num_splits):\n",
    "            # Create split filename with part suffix\n",
    "            split_filename = f\"{filename.rsplit('.', 1)[0]}_part{i+1}.csv\"\n",
    "            with open(split_filename, 'w', encoding='utf-8') as split_file:\n",
    "                # Write header to split file\n",
    "                split_file.write(header)\n",
    "                # Write lines for the current split\n",
    "                for _ in range(lines_per_file):\n",
    "                    line = f.readline()\n",
    "                    if not line:  # Reached end of original file\n",
    "                        break\n",
    "                    split_file.write(line)\n",
    "\n",
    "filename = \"wasabi_songs.csv\"\n",
    "split_csv(filename, 15)\n"
   ]
  }
 ],
 "metadata": {
  "kernelspec": {
   "display_name": "Python 3",
   "language": "python",
   "name": "python3"
  },
  "language_info": {
   "codemirror_mode": {
    "name": "ipython",
    "version": 3
   },
   "file_extension": ".py",
   "mimetype": "text/x-python",
   "name": "python",
   "nbconvert_exporter": "python",
   "pygments_lexer": "ipython3",
   "version": "3.10.10"
  },
  "orig_nbformat": 4
 },
 "nbformat": 4,
 "nbformat_minor": 2
}

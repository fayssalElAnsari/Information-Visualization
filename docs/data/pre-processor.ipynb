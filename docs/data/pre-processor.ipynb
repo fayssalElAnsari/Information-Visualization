{
 "cells": [
  {
   "cell_type": "code",
   "execution_count": null,
   "metadata": {},
   "outputs": [],
   "source": [
    "import pandas as pd\n",
    "\n",
    "def safe_read_csv(filename):\n",
    "    with open(filename, 'r', encoding='utf-8') as f:\n",
    "        lines = f.readlines()\n",
    "    # Assuming the first line is header\n",
    "    header = lines[0]\n",
    "    # Filter lines that have the same number of commas as the header\n",
    "    consistent_lines = [line for line in lines if line.count(',') == header.count(',')]\n",
    "    # Convert back to a single string\n",
    "    csv_content = ''.join(consistent_lines)\n",
    "    return pd.read_csv(pd.compat.StringIO(csv_content))\n",
    "\n",
    "def load_dataframes():\n",
    "    songs_df = safe_read_csv('wasabi_songs.csv')\n",
    "    albums_df = safe_read_csv('wasabi_albums.csv')\n",
    "    artists_df = safe_read_csv('wasabi_artists.csv')\n",
    "    \n",
    "    return songs_df, albums_df, artists_df\n",
    "\n",
    "songs_df, albums_df, artists_df = load_dataframes()\n",
    "\n",
    "print(songs_df.head())\n",
    "print(albums_df.head())\n",
    "print(artists_df.head())\n"
   ]
  }
 ],
 "metadata": {
  "language_info": {
   "name": "python"
  },
  "orig_nbformat": 4
 },
 "nbformat": 4,
 "nbformat_minor": 2
}

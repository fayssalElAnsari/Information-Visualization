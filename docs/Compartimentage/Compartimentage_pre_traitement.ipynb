{
 "cells": [
  {
   "cell_type": "code",
   "execution_count": 1,
   "id": "7f7c14ce",
   "metadata": {},
   "outputs": [],
   "source": [
    "import pandas as pd\n",
    "from unidecode import unidecode\n",
    "import numpy as np"
   ]
  },
  {
   "cell_type": "code",
   "execution_count": 2,
   "id": "eac42a62",
   "metadata": {},
   "outputs": [
    {
     "name": "stderr",
     "output_type": "stream",
     "text": [
      "C:\\Users\\mylye\\AppData\\Local\\Temp\\ipykernel_8916\\1783811200.py:1: DtypeWarning: Columns (15,17,20,41,42,43,44,50,67,74) have mixed types. Specify dtype option on import or set low_memory=False.\n",
      "  songs = pd.read_csv('wasabi_songs.csv', sep='\\t')\n"
     ]
    }
   ],
   "source": [
    "songs = pd.read_csv('wasabi_songs.csv', sep='\\t')"
   ]
  },
  {
   "cell_type": "code",
   "execution_count": 3,
   "id": "6ad3d3cc",
   "metadata": {},
   "outputs": [
    {
     "data": {
      "text/plain": [
       "(2099554, 4)"
      ]
     },
     "execution_count": 3,
     "metadata": {},
     "output_type": "execute_result"
    }
   ],
   "source": [
    "colonnes_songs = ['album_genre', 'artist', 'albumTitle', 'title']\n",
    "col_songs = songs[colonnes_songs]\n",
    "col_songs.shape"
   ]
  },
  {
   "cell_type": "code",
   "execution_count": 4,
   "id": "9a7fd4a0",
   "metadata": {},
   "outputs": [
    {
     "name": "stderr",
     "output_type": "stream",
     "text": [
      "C:\\Users\\mylye\\AppData\\Local\\Temp\\ipykernel_8916\\2023759004.py:2: SettingWithCopyWarning: \n",
      "A value is trying to be set on a copy of a slice from a DataFrame.\n",
      "Try using .loc[row_indexer,col_indexer] = value instead\n",
      "\n",
      "See the caveats in the documentation: https://pandas.pydata.org/pandas-docs/stable/user_guide/indexing.html#returning-a-view-versus-a-copy\n",
      "  col_songs['genre'] = temp\n",
      "C:\\Users\\mylye\\AppData\\Local\\Temp\\ipykernel_8916\\2023759004.py:3: SettingWithCopyWarning: \n",
      "A value is trying to be set on a copy of a slice from a DataFrame.\n",
      "Try using .loc[row_indexer,col_indexer] = value instead\n",
      "\n",
      "See the caveats in the documentation: https://pandas.pydata.org/pandas-docs/stable/user_guide/indexing.html#returning-a-view-versus-a-copy\n",
      "  col_songs['genre'] = col_songs['genre'].str.lower()\n"
     ]
    }
   ],
   "source": [
    "temp = col_songs['album_genre']\n",
    "col_songs['genre'] = temp\n",
    "col_songs['genre'] = col_songs['genre'].str.lower()"
   ]
  },
  {
   "cell_type": "code",
   "execution_count": 5,
   "id": "8974ba44",
   "metadata": {},
   "outputs": [
    {
     "name": "stderr",
     "output_type": "stream",
     "text": [
      "C:\\Users\\mylye\\AppData\\Local\\Temp\\ipykernel_8916\\2403619731.py:15: SettingWithCopyWarning: \n",
      "A value is trying to be set on a copy of a slice from a DataFrame.\n",
      "Try using .loc[row_indexer,col_indexer] = value instead\n",
      "\n",
      "See the caveats in the documentation: https://pandas.pydata.org/pandas-docs/stable/user_guide/indexing.html#returning-a-view-versus-a-copy\n",
      "  col_songs['genre'] = col_songs['genre'].apply(clean_genre)\n"
     ]
    }
   ],
   "source": [
    "import re\n",
    "\n",
    "# Fonction pour nettoyer le texte dans la colonne 'genre'\n",
    "def clean_genre(text):\n",
    "    if isinstance(text, str):\n",
    "        # Utiliser une expression régulière pour ne garder que les lettres, les espaces, le tiret \"-\" et l'esperluette \"&\"\n",
    "        cleaned_text = re.sub(r'[^a-zA-Z\\s&\\'-]', '', text)\n",
    "        #cleaned_text = re.sub('  ', ' ', text)\n",
    "        return cleaned_text\n",
    "    else:\n",
    "        # Si ce n'est pas une chaîne de caractères, retourner le texte tel quel\n",
    "        return text\n",
    "\n",
    "# Appliquer la fonction de nettoyage à la colonne 'genre'\n",
    "col_songs['genre'] = col_songs['genre'].apply(clean_genre)\n"
   ]
  },
  {
   "cell_type": "code",
   "execution_count": 6,
   "id": "4c1fb61e",
   "metadata": {},
   "outputs": [],
   "source": [
    "col_songs = col_songs.fillna('unknown')"
   ]
  },
  {
   "cell_type": "code",
   "execution_count": 7,
   "id": "01d37073",
   "metadata": {},
   "outputs": [
    {
     "data": {
      "text/plain": [
       "529"
      ]
     },
     "execution_count": 7,
     "metadata": {},
     "output_type": "execute_result"
    }
   ],
   "source": [
    "unique_album_genres = col_songs['genre'].unique()\n",
    "len(unique_album_genres)"
   ]
  },
  {
   "cell_type": "code",
   "execution_count": 8,
   "id": "d6b29fa1",
   "metadata": {},
   "outputs": [
    {
     "data": {
      "text/plain": [
       "array(['alternative rock', 'unknown', 'death metal', 'rock', 'emo',\n",
       "       'heavy metal', 'progressive metal', 'deathcore', 'synthpop',\n",
       "       'post-hardcore', 'classical', 'neofolk', 'unk', 'pop punk',\n",
       "       'thrash metal', 'dark wave', 'mpb', 'indie rock', 'gothic metal',\n",
       "       'doom metal', 'post-punk', 'pop rock', 'metalcore', 'black metal',\n",
       "       'sludge metal', 'experimental rock', 'pop', 'melodic metalcore',\n",
       "       'hardcore punk', 'new wave', 'europop', 'brutal death metal',\n",
       "       'hip hop', 'punk rock', 'electronic rock', 'groove metal',\n",
       "       'math rock', 'grindcore', 'melodic death metal', 'industrial rock',\n",
       "       'psychedelic rock', 'k-pop', 'piano rock', 'ebm', 'disco', 'funk',\n",
       "       'country', 'alternative hip hop', 'christian rock', 'screamo',\n",
       "       'children&aposs music', 'industrial metal', 'hard rock', 'folk',\n",
       "       'indie pop', 'progressive rock', 'street punk', 'jazz fusion',\n",
       "       'industrial', 'avant-garde metal', 'r&ampb', 'teen pop', 'jazz',\n",
       "       'contemporary christian', 'soul', 'gospel', 'christmas',\n",
       "       'folk rock', 'acoustic', 'symphonic black metal', 'speed metal',\n",
       "       'power metal', 'dance-pop', 'reggae', 'funk melody', 'thrashcore',\n",
       "       'underground hip hop', 'gothic rock', 'steampunk', 'electronic',\n",
       "       'symphonic metal', 'christian', 'trance', 'vocal trance',\n",
       "       'gangsta rap', 'west coast hip hop', 'latin pop',\n",
       "       'neo-progressive rock', 'goregrind', 'a cappella', 'religious',\n",
       "       'futurepop', 'dark electro', 'power pop', 'dance', 'deutschrock',\n",
       "       'volkslied', 'j-rock', 'southern hip hop', 'stoner rock', 'j-pop',\n",
       "       'contemporary folk', 'christian metal', 'east coast hip hop',\n",
       "       'experimental', 'nerdcore hip hop', 'eurodance', 'folk punk',\n",
       "       'dream pop', 'gothic', 'schlager', 'comedy', 'electronica',\n",
       "       'anti-folk', 'pop rock&xe', 'garage rock', 'medieval', 'nu metal',\n",
       "       'indie folk', 'singer-songwriter', 'new age', 'deutschpunk',\n",
       "       'avant-pop', 'brazilian', 'tango', 'americana', 'electro', 'mixed',\n",
       "       'aggrotech', 'house', 'electro house', 'progressive death metal',\n",
       "       'ska punk', 'noise', 'post-metal', 'ambient', 'chanson', 'techno',\n",
       "       'chill-out', 'krautrock', 'shoegazing', 'downtempo', 'soft rock',\n",
       "       'shoegazing&xf&xe', 'trip hop', 'freak folk', 'sung poetry', 'ska',\n",
       "       'vocal', 'roots', 'southern rock', 'blues rock', 'acid house',\n",
       "       'french pop', 'sertanejo', 'c-pop', 'pagan metal', 'worship',\n",
       "       'celtic', 'blues', 'classic rock', 'latin', 'soundtrack', 'fado',\n",
       "       'alternative country', 'ranchera', 'progressive house',\n",
       "       'pirate metal', 'reggaeton', 'punk blues', 'art rock',\n",
       "       'orchestral', 'alternative metal', 'grunge', 'deathrock',\n",
       "       'bluegrass', 'folk metal', 'neo-psychedelia&xf&xe', 'glitch',\n",
       "       'viking metal', 'progressive rock&xe', 'christian punk',\n",
       "       'irish folk', 'britpop', 'art punk', 'italian folk', 'celtic punk',\n",
       "       'lo-fi', 'world music', 'baroque pop', 'punk cabaret', 'cumbia',\n",
       "       'latin rock', 'progressive folk', 'crust punk', 'glam metal',\n",
       "       'smooth jazz', 'bolero', 'post-grunge', 'extreme metal', 'indie',\n",
       "       'experimental hip hop', 'technical death metal',\n",
       "       'melodic hardcore', 'tech house', 'volkst&xfcmlich', 'novelty',\n",
       "       'trap', 'musical', 'flamenco', 'glam rock', 'breakbeat', 'salsa',\n",
       "       'christian hip hop', 'easy listening', 'freestyle', 'space rock',\n",
       "       'symphonic rock', 'neo soul', 'psych folk', 'psychedelic pop',\n",
       "       'neo-psychedelia', 'vocal jazz', 'francophone', 'unblack metal',\n",
       "       'oi-punk', 'anarcho-punk', 'french hip hop', 'bossa nova', 'idm',\n",
       "       'acid techno', 'psychedelic', 'drum and bass', 'dark ambient',\n",
       "       'electropop', 'ax&xe', 'noise rock', 'slowcore',\n",
       "       'post-punk revival', 'protest song', 'austropop', 'post-rock',\n",
       "       'progressive trance', 'brazilian rock', 'rio',\n",
       "       'adult contemporary', 'dub', 'neue deutsche h&xerte',\n",
       "       'crack rock steady', 'psychedelic trance', 'digital hardcore',\n",
       "       'electropunk', 'edm', 'samba', 'modern rock', 'bachata', 'forr&xf',\n",
       "       'dubstep', 'jazz-funk', 'pop-rap', 'surf rock', 'new jack swing',\n",
       "       'rock &aposn&apos roll', 'skate punk', 'pop-folk', 'rap rock',\n",
       "       'junkanoo', 'soca', 'italo disco', 'horror punk',\n",
       "       'horror punk&xf&xe', 'bubblegum dance', 'psychobilly', 'banda',\n",
       "       'cuarteto', 'funk metal', 'swing', 'classic pop', 'acid jazz',\n",
       "       'rock opera', 'deep house', 'beatbox', 'country rock',\n",
       "       'contemporary r&ampb', 'indie folk&xe', 'opera', 'folktronica',\n",
       "       'adult alternative', 'ballad', 'alternative dance',\n",
       "       'hardcore hip hop', 'riot grrrl', 'blue-eyed soul', 'filk',\n",
       "       'avant-garde', 'chiptune', 'rapcore', 'rap metal', 'midwest rap',\n",
       "       'celtic rock', 'funk rock', 'rockabilly', 'horrorcore',\n",
       "       'garage punk', 'australian hip hop', 'mathcore', 'g-funk',\n",
       "       'happy hardcore', 'zydeco', 'funk carioca', 'spoken word',\n",
       "       'hatecore', 'crunkcore', 'crunk', 'roots rock', 'chillwave',\n",
       "       'rock &aposn&apos roll&xe', 'son cubano', 'dancehall', 'worldbeat',\n",
       "       'calypso', 'chanson&xe', 'electro-industrial', 'tropicalismo',\n",
       "       'jangle pop', 'canterbury', 'electro swing', 'norte&xfo&xe',\n",
       "       'country pop', 'trova', 'mystic folk', 'morna', 'modern classical',\n",
       "       'delta blues', 'adult alternative&xe', 'electroclash',\n",
       "       'dance punk', 'merengue', 'grime', 'minimal', 'electronicore',\n",
       "       'beat', 'vaudeville', 'crossover', 'christian hardcore',\n",
       "       'pub rock', 'reggae fusion', 'country rap', 'political hip hop',\n",
       "       'choral', 'norte&xfo', 'children&aposs music&xe',\n",
       "       'progressive bluegrass', 'noise pop', 'electric blues',\n",
       "       'rock en espa&xfol', 'rap  metal', 'french house', 'parody',\n",
       "       'neue deutsche todeskunst', 'heartland rock', 'protopunk',\n",
       "       'dance-rock', 'country blues', 'nederpop', 'hi-nrg', 'eurobeat',\n",
       "       'crossover thrash', 'nwobhm', 'jovem guarda', 'symphonic metal&xe',\n",
       "       'southern metal', 'oldies', 'rave', 'neue deutsche welle',\n",
       "       'bubblegum pop', 'cabaret', 'doo-wop', 'powerviolence',\n",
       "       'death &aposn&apos roll', 'dark metal', 'mashup', 'dark rock',\n",
       "       'psychedelic folk', 'new orleans rhythm and blues', 'comedy rock',\n",
       "       'disco house', 'turkish rock', 'french pop&xe', 'big band',\n",
       "       'art pop', 'j-punk', 'humppa&xe', 'humppa', 'dark wave&xf&xe',\n",
       "       'latin jazz', 'regional mexican', 'rumba',\n",
       "       'rock against communism', 'quiet storm', 'skiffle', 'brega',\n",
       "       'hip house', 'big beat', 'medieval folk rock', 'cabaret&xe',\n",
       "       'afrobeat', 'visual kei', 'indietronica', 'christian ska',\n",
       "       'glitch hop', 'y&xe-y&xe', 'samba-can&xe&xeo', 'instrumental rock',\n",
       "       'ska punk&xe', '', 'progressive  rock', 'klezmer', 'latin hip hop',\n",
       "       'comic opera', 'neoclassical', 'gypsy punk', 'slam',\n",
       "       'gregorian chant', 'volksmusik', 'new rave', 'dark cabaret',\n",
       "       'gabber', 'minnesang', 'post-rock&xe', 'progg', 'nintendocore',\n",
       "       'ethereal wave', 'chicago blues', 'alpine rock', 'bai&xeo',\n",
       "       'nu-disco', 'tejano', 'grupero', 'surf', 'acid rock', 'hawaiian',\n",
       "       'mandopop', 'candombe', 'nu jazz', 'outlaw country', 'mariachi',\n",
       "       'hard bop', 'bakersfield sound', 'boogie woogie', 'operatic pop',\n",
       "       'neo soul&xe', 'goa trance', 'canadian hip hop', 'country pop&xe',\n",
       "       'shibuya-kei', 'psychedelic rock&xe', 'lounge music', 'ragga',\n",
       "       'drone doom', 'minimal techno', 'anime', 'drumstep', 'ragtime',\n",
       "       'outsider music', 'dirty blues', 'reggae rock', 'roots reggae',\n",
       "       'alternative  rock', 'zeuhl', 'reggae&xf&xe', 'andalusian rock',\n",
       "       'experimental pop', 'harmonica blues', 'jam band', 'cowpunk',\n",
       "       'bandanejo', 'drone music', 'pagode', 'power noise',\n",
       "       'contemporary jazz', 'soul jazz', 'deep house&xe', 'early music',\n",
       "       'bhangra', 'queercore', 'martial industrial', 'jump blues',\n",
       "       'swiss rock', 'sunshine pop', 'djent', 'british invasion',\n",
       "       'contemporary christian&xe', 'polka', 'hardstyle', 'pimba',\n",
       "       'death  metal', 'cantopop', 'forr&xf&xe', 'breakcore', 'speedcore',\n",
       "       'alpine new wave', 'free jazz', 'soundtracktelevision',\n",
       "       'hard trance', 'soundtrackmusical', 'm&xfasica popular portuguesa',\n",
       "       'raw rock', 'lambada', 'swamp blues', 'electric folk',\n",
       "       'honky tonk', 'j-rap', 'singer-songwriter&xe', 'cool jazz',\n",
       "       'post-punk&xe', 'punkabilly', 'gypsy jazz', 'electronic&xe',\n",
       "       'southern gospel', 'post-industrial', 'progressive rock&xf&xe',\n",
       "       'chamber music', 'hamburger schule', 'visual kei&xe',\n",
       "       'gothic rock&xf&xe', 'milonga', 'native american',\n",
       "       'pagan metal&xe'], dtype=object)"
      ]
     },
     "execution_count": 8,
     "metadata": {},
     "output_type": "execute_result"
    }
   ],
   "source": [
    "unique_album_genres"
   ]
  },
  {
   "cell_type": "code",
   "execution_count": 9,
   "id": "d1066752",
   "metadata": {},
   "outputs": [],
   "source": [
    "latin_music_genres = ['latin', 'reggaeton', 'salsa', 'bachata', 'merengue', 'cumbia', 'tango',\n",
    "                      'bossa nova', 'tropicalismo', 'samba', 'morna', 'rumba', 'latin hip hop', 'tejano',\n",
    "                     'trova', 'm&xfasica popular portuguesa', 'mpb', 'funk carioca', 'baião']\n",
    "\n",
    "for unique_genre in latin_music_genres:\n",
    "    col_songs['genre'] = col_songs['genre'].replace(unique_genre, 'Musique latine')"
   ]
  },
  {
   "cell_type": "code",
   "execution_count": 10,
   "id": "cc0a96df",
   "metadata": {},
   "outputs": [],
   "source": [
    "rap_genres = ['rap rock', 'rap metal', 'crunkcore', 'rapcore', 'midwest rap', 'freestyle', 'rap metal', 'french house', \n",
    "              'french house&xf&xe', 'nederpop', 'rap  metal', 'pop-rap', 'j-rap', 'ax&xe', 'country rap']\n",
    "for unique_genre in rap_genres:\n",
    "    col_songs['genre'] = col_songs['genre'].replace(unique_genre, 'Rap')"
   ]
  },
  {
   "cell_type": "code",
   "execution_count": 11,
   "id": "c34879a4",
   "metadata": {},
   "outputs": [],
   "source": [
    "blues_rows = col_songs[col_songs['genre'].str.contains(r'blues', case=False)]\n",
    "\n",
    "# Extraire les valeurs uniques de la colonne 'genre' de ces lignes\n",
    "unique_blues_genres = blues_rows['genre'].unique()\n",
    "unique_blues_genres = np.append(unique_blues_genres, ['rockabilly', 'ragtime', 'doo-wop', 'quiet storm', 'skiffle'])\n",
    "for unique_genre in unique_blues_genres:\n",
    "    col_songs['genre'] = col_songs['genre'].replace(unique_genre, 'Blues')"
   ]
  },
  {
   "cell_type": "code",
   "execution_count": 12,
   "id": "37575faf",
   "metadata": {},
   "outputs": [],
   "source": [
    "jazz_rows = col_songs[col_songs['genre'].str.contains(r'jazz', case=False)]\n",
    "\n",
    "# Extraire les valeurs uniques de la colonne 'genre' de ces lignes\n",
    "unique_jazz_genres = jazz_rows['genre'].unique()\n",
    "unique_jazz_genres = np.append(unique_jazz_genres, ['swing', 'hard bop', 'boogie woogie', 'slam'])\n",
    "# Remplacer toutes les valeurs uniques par \"Rock\"\n",
    "for unique_genre in unique_jazz_genres:\n",
    "    col_songs['genre'] = col_songs['genre'].replace(unique_genre, 'Jazz')"
   ]
  },
  {
   "cell_type": "code",
   "execution_count": 13,
   "id": "057c4bfa",
   "metadata": {},
   "outputs": [],
   "source": [
    "classical_genres = ['chamber music', 'choral', 'gregorian chant', 'opera', 'operatic pop', 'orchestral',\n",
    "                   'early music', 'classical']\n",
    "for unique_genre in classical_genres:\n",
    "    col_songs['genre'] = col_songs['genre'].replace(unique_genre, 'Classical')"
   ]
  },
  {
   "cell_type": "code",
   "execution_count": 14,
   "id": "ce5cb4ee",
   "metadata": {},
   "outputs": [],
   "source": [
    "genres_other = ['baroque pop', 'comic opera', 'medieval', 'minnesang', 'modern classical', 'neoclassical', 'symphonic rock']\n",
    "for unique_genre in genres_other:\n",
    "    col_songs['genre'] = col_songs['genre'].replace(unique_genre, 'Autres genres musicaux')"
   ]
  },
  {
   "cell_type": "code",
   "execution_count": 15,
   "id": "3282a26c",
   "metadata": {},
   "outputs": [],
   "source": [
    "#certains ne sont pas passes\n",
    "folk_genres = ['folk', 'neofolk', 'folk rock', 'contemporary folk', 'indie folk', 'shoegazing', 'lo-fi', \n",
    "               'shoegazing', 'shoegazing', 'alternative country', 'alternative dance', 'experimental rock', \n",
    "               'progressive rock', 'folk punk', 'medieval folk rock', 'regional mexican', 'rock against communism',\n",
    "              'psych folk', 'folktronica', 'celtic rock', 'americana', 'freak folk', 'indie folk&xe', \n",
    "               'mystic folk', 'filk', 'roots']\n",
    "\n",
    "for unique_genre in folk_genres:\n",
    "    col_songs['genre'] = col_songs['genre'].replace(unique_genre, 'Folk')"
   ]
  },
  {
   "cell_type": "code",
   "execution_count": 16,
   "id": "7e8a4b9b",
   "metadata": {},
   "outputs": [],
   "source": [
    "populaires_international_genres = ['k-pop', 'j-pop', 'c-pop', 'latin pop', 'reggaeton', 'latin rock', \n",
    "                                   'samba', 'salsa', 'bachata', 'sertanejo', 'forró', 'merengue', 'cumbia', \n",
    "                                   'tango', 'bolero', 'bossa nova', 'morna', 'rumba', 'tropicalismo',\n",
    "                                   'shibuya-kei', 'contemporary christian&xe', 'polka', 'pimba', 'cantopop', \n",
    "                                   'forr&xf&xe', 'electric folk', 'worldbeat', \n",
    "                                   'chanson&xe', 'afrobeat', 'francophone', 'norte&xfo (Norteño)', 'austropop',\n",
    "                                  'anime']\n",
    "\n",
    "for unique_genre in populaires_international_genres:\n",
    "    col_songs['genre'] = col_songs['genre'].replace(unique_genre, 'Populaires International')"
   ]
  },
  {
   "cell_type": "code",
   "execution_count": 17,
   "id": "24d0518c",
   "metadata": {},
   "outputs": [],
   "source": [
    "religious_genres = ['religious', 'gospel', 'contemporary christian', 'choral', 'gregorian chant', 'worship', \n",
    "                    'christian', 'christian rock', 'christian metal', 'christian punk', 'unblack metal', \n",
    "                    'sacred', 'spirituals', 'traditional gospel', 'contemporary gospel', 'southern gospel',\n",
    "                   'christian ska', 'christian hardcore']\n",
    "for unique_genre in religious_genres:\n",
    "    col_songs['genre'] = col_songs['genre'].replace(unique_genre, 'Musique religieuse')"
   ]
  },
  {
   "cell_type": "code",
   "execution_count": 18,
   "id": "8e8242e1",
   "metadata": {},
   "outputs": [],
   "source": [
    "electronique_experimentale_genres = ['aggrotech', 'dark electro', 'dark wave', 'ebm', 'electroclash', \n",
    "                                     'experimental', 'glitch', 'glitch hop', 'industrial', 'noise', \n",
    "                                     'power noise', 'electro', 'minimal', 'breakcore']\n",
    "\n",
    "for unique_genre in electronique_experimentale_genres:\n",
    "    col_songs['genre'] = col_songs['genre'].replace(unique_genre, 'Electronique expérimentale')"
   ]
  },
  {
   "cell_type": "code",
   "execution_count": 19,
   "id": "aea2652b",
   "metadata": {},
   "outputs": [],
   "source": [
    "electronic_genres = ['electronic', 'electronic rock', 'electronica', 'house', 'electro house', \n",
    "                     'techno', 'acid house', 'acid techno','electropop', 'dark ambient', \n",
    "                     'psychedelic trance', 'digital hardcore', 'electropunk', 'edm', \n",
    "                     'deep house', 'electronicore', 'techno', 'progressive trance', 'happy hardcore',\n",
    "                    'IDM (Intelligent Dance Music)', 'IDM', 'IDM(Intelligent Dance Music)', 'electronicore',\n",
    "                    'idm', 'dub', 'chillwave', 'ambient', 'chill-out', 'downtempo', 'krautrock', 'progressive house',\n",
    "                    'minimal techno', 'drumstep', 'deep house&xe', 'nu-disco', 'gabber', 'progressive  rock', 'new rave',\n",
    "                    'martial industrial', 'electro swing', 'electronic&xe', 'speedcore', 'trip hop', \n",
    "                     'electro-industrial', 'indietronica']\n",
    "\n",
    "for unique_genre in electronic_genres:\n",
    "    col_songs['genre'] = col_songs['genre'].replace(unique_genre, 'Electronic')"
   ]
  },
  {
   "cell_type": "code",
   "execution_count": 20,
   "id": "77374e44",
   "metadata": {},
   "outputs": [],
   "source": [
    "dance_genres = ['trance', 'vocal trance', 'dubstep', 'breakbeat', 'drum and bass', 'hardstyle', 'big beat',\n",
    "               'bubblegum dance', 'eurobeat', 'dance punk', 'dancehall', 'hip house', 'club', 'dance-rock',\n",
    "               'rave', 'disco', 'goa trance', 'tech house', 'alternative dance']\n",
    "for unique_genre in dance_genres:\n",
    "    col_songs['genre'] = col_songs['genre'].replace(unique_genre, 'Dance Electro')"
   ]
  },
  {
   "cell_type": "code",
   "execution_count": 21,
   "id": "5525f17c",
   "metadata": {},
   "outputs": [],
   "source": [
    "country_genres = ['country', 'country rock', 'outlaw country', 'bakersfield sound', 'honky tonk', 'bluegrass', \n",
    "                  'roots country', 'alternative country', 'ranchera', 'country pop',\n",
    "                 'southern rock', 'country pop&xe']\n",
    "for unique_genre in country_genres:\n",
    "    col_songs['genre'] = col_songs['genre'].replace(unique_genre, 'Country')"
   ]
  },
  {
   "cell_type": "code",
   "execution_count": 22,
   "id": "afe51ebd",
   "metadata": {},
   "outputs": [],
   "source": [
    "hip_hop_genres = ['hip hop', 'alternative hip hop', 'gangsta rap', 'west coast hip hop', \n",
    "                  'east coast hip hop', 'underground hip hop', 'nerdcore hip hop', 'crunk', \n",
    "                  'political hip hop', 'southern hip hop', 'australian hip hop', 'christian hip hop', \n",
    "                  'french hip hop', 'trap', 'experimental hip hop', 'hardcore hip hop', 'g-funk',\n",
    "                 'grime', 'canadian hip hop', 'beatbox', 'new jack swing']\n",
    "for unique_genre in hip_hop_genres:\n",
    "    col_songs['genre'] = col_songs['genre'].replace(unique_genre, 'Hip-Hop')"
   ]
  },
  {
   "cell_type": "code",
   "execution_count": 23,
   "id": "a7e1d04e",
   "metadata": {},
   "outputs": [],
   "source": [
    "#a verifier\n",
    "rnb_soul_genres = ['r&b', 'soul', 'neo soul', 'contemporary r&b', 'gospel', 'funk', 'funk melody', 'southern soul', \n",
    "                   'northern soul', 'blue-eyed soul', 'contemporary r&ampb', 'r&ampb', 'neo soul&xe', 'quiet storm']\n",
    "for unique_genre in rnb_soul_genres:\n",
    "    col_songs['genre'] = col_songs['genre'].replace(unique_genre, 'R&B/Soul')"
   ]
  },
  {
   "cell_type": "code",
   "execution_count": 24,
   "id": "137042e5",
   "metadata": {},
   "outputs": [],
   "source": [
    "variete_genres = ['pop-folk', 'contemporary christian', 'adult contemporary','easy listening',\n",
    "                  'lounge music','big band','novelty','ballad','instrumental','sung poetry', 'variety',\n",
    "                 'adult alternative', 'cabaret', 'vaudeville', 'sunshine pop', 'comedy', 'schlager']\n",
    "for unique_genre in variete_genres:\n",
    "    col_songs['genre'] = col_songs['genre'].replace(unique_genre, 'Variété')"
   ]
  },
  {
   "cell_type": "code",
   "execution_count": 25,
   "id": "8da5c431",
   "metadata": {},
   "outputs": [],
   "source": [
    "musique_monde = ['brazilian', 'fado', 'flamenco', 'irish folk', 'celtic punk', 'celtic', 'ska', \n",
    "                 'chanson', 'italian folk', 'vocal','samba-can&xe&xeo', 'klezmer', 'gypsy punk', \n",
    "                 'volksmusik', 'candombe', 'mariachi', 'bhangra', 'alpine new wave', 'raw rock', \n",
    "                 'lambada', 'milonga', 'native american', 'world music', 'brazilian rock', 'rio', \n",
    "                 'norteño', 'norteno','son cubano', 'worldbeat', 'calypso', 'canterbury', 'norte&xfo&xe',\n",
    "                'zydeco', 'norte&xfo', 'brega', 'word music', 'musique du monde', 'banda', 'cuarteto', \n",
    "                 'jovem guarda', 'sou', 'andalusian rock', 'bandanejo', 'pagode', 'grupero', 'hawaiian']\n",
    "\n",
    "for unique_genre in musique_monde:\n",
    "    col_songs['genre'] = col_songs['genre'].replace(unique_genre, 'Musique du Monde')"
   ]
  },
  {
   "cell_type": "code",
   "execution_count": 26,
   "id": "5e7563b2",
   "metadata": {},
   "outputs": [],
   "source": [
    "pop = ['a cappella', 'acoustic', 'adult alternative', 'beat', 'britpop', 'bubblegum pop', \n",
    "       'classic pop', 'dance', 'dance-pop', 'disco house', 'dream pop', 'eurodance', 'europop', 'french pop', \n",
    "       'funk rock', 'futurepop', 'hi-nrg', 'indie pop', 'italo disco', 'jangle pop', 'mandopop', 'pop', 'pop rock', \n",
    "       'power pop', 'psychedelic pop', 'singer-songwriter', 'soft rock', 'synthpop', 'teen pop',\n",
    "      'pop rock&xe', 'pop', 'adult alternative&xe', 'french pop&xe', 'art pop']\n",
    "\n",
    "\n",
    "for unique_genre in pop:\n",
    "    col_songs['genre'] = col_songs['genre'].replace(unique_genre, 'Pop')"
   ]
  },
  {
   "cell_type": "code",
   "execution_count": 27,
   "id": "6bc57f7a",
   "metadata": {},
   "outputs": [],
   "source": [
    "reggae = ['reggae', 'roots reggae', 'ska punk', 'dub', 'ragga', 'reggae&xf&xe', 'reggae rock', 'ska',\n",
    "         'reggae fusion']\n",
    "for unique_genre in reggae:\n",
    "    col_songs['genre'] = col_songs['genre'].replace(unique_genre, 'Reggae')"
   ]
  },
  {
   "cell_type": "code",
   "execution_count": 28,
   "id": "c6318726",
   "metadata": {},
   "outputs": [],
   "source": [
    "# Liste pour le groupe \"Rock\"\n",
    "rock_classique = ['classic rock', 'rock &aposn&apos roll', 'hard rock', 'gothic rock', 'glam metal', \n",
    "                  'glam rock', 'space rock',\n",
    "                  'surf rock', 'rock opera', 'roots rock', 'rock & roll', 'oldies',\n",
    "                  'instrumental rock', 'alpine rock', 'british invasion',\n",
    "                 'rock', 'neo-progressive rock', 'heartland rock']\n",
    "\n",
    "for unique_genre in rock_classique:\n",
    "    col_songs['genre'] = col_songs['genre'].replace(unique_genre, 'Rock classique')"
   ]
  },
  {
   "cell_type": "code",
   "execution_count": 29,
   "id": "c3d04a2d",
   "metadata": {},
   "outputs": [],
   "source": [
    "rock_experimental = ['experimental pop', 'zeuhl', 'drone doom', 'progressive folk', 'avant-pop', \n",
    "                'progressive rock&xe', 'neo-psychedelia&xf&xe', 'experimental rock', 'progressive rock&xf&xe',\n",
    "                    'post-metal', 'art rock', 'noise rock', 'slowcore', 'drone music', 'jam band', 'progg']\n",
    "for unique_genre in rock_experimental:\n",
    "    col_songs['genre'] = col_songs['genre'].replace(unique_genre, 'Rock expérimental')"
   ]
  },
  {
   "cell_type": "code",
   "execution_count": 30,
   "id": "aa0d2feb",
   "metadata": {},
   "outputs": [],
   "source": [
    "rock_alternatif = ['alternative rock', 'indie rock', 'post-punk revival', 'post-punk', 'post-grunge', \n",
    "                   'modern rock', 'indie', 'post-rock', 'new wave', 'emo', 'pop punk', 'punk rock', \n",
    "                   'j-rock', 'garage rock', 'art punk', 'alternative rock',\n",
    "                  'cowpunk', 'swiss rock', 'punkabilly', 'hard trance', 'rock &aposn&apos roll&xe',\n",
    "                  'post-hardcore', 'piano rock', 'deutschrock', 'stoner rock', 'grunge', 'rock \\'n\\' roll', \n",
    "                   'rock en español', 'dark rock', 'turkish rock', 'alternative rock',\n",
    "                  'alternative  rock', 'gothic rock&xf&xe', 'rock en espa&xfol']\n",
    "for unique_genre in rock_alternatif:\n",
    "    col_songs['genre'] = col_songs['genre'].replace(unique_genre, 'Rock alternatif')"
   ]
  },
  {
   "cell_type": "code",
   "execution_count": 31,
   "id": "e13e88be",
   "metadata": {},
   "outputs": [],
   "source": [
    "rock_psychédélique = ['psychedelic', 'psychedelic rock', 'neo-psychedelia', 'neo-psychedelia', 'psychedelic folk',\n",
    "                     'psychedelic rock', 'acid rock', 'surf', 'psychedelic rock', 'gothic rock', 'psychedelic rock&xe']\n",
    "for unique_genre in rock_psychédélique:\n",
    "    col_songs['genre'] = col_songs['genre'].replace(unique_genre, 'Rock psychédélique')"
   ]
  },
  {
   "cell_type": "code",
   "execution_count": 32,
   "id": "ebe3fd38",
   "metadata": {},
   "outputs": [],
   "source": [
    "groupe_metal_extreme = ['death metal', 'brutal death metal', 'technical death metal', 'goregrind', \n",
    "                        'death metal', 'death \\'n\\' roll', 'progressive death metal', 'deathrock',\n",
    "                       'deathcore', 'black metal', 'groove metal', 'melodic death metal']\n",
    "\n",
    "for unique_genre in groupe_metal_extreme:\n",
    "    col_songs['genre'] = col_songs['genre'].replace(unique_genre, 'Metal extreme')"
   ]
  },
  {
   "cell_type": "code",
   "execution_count": 33,
   "id": "2edcf465",
   "metadata": {},
   "outputs": [],
   "source": [
    "groupe_metal_classique = ['heavy metal', 'power metal', 'speed metal', 'nwobhm', 'symphonic metal', \n",
    "                          'symphonic black metal', 'gothic metal', 'doom metal', 'industrial rock']\n",
    "for unique_genre in groupe_metal_classique:\n",
    "    col_songs['genre'] = col_songs['genre'].replace(unique_genre, 'Metal classique')"
   ]
  },
  {
   "cell_type": "code",
   "execution_count": 34,
   "id": "d6d9fc87",
   "metadata": {},
   "outputs": [],
   "source": [
    "groupe_metal_alternatif = ['funk metal', 'horrorcore', 'mathcore', 'crossover', 'protopunk', \n",
    "                           'crossover thrash', 'avant-garde metal', 'extreme metal', \n",
    "                           'progressive metal', 'melodic metalcore', 'thrash metal', 'viking metal', \n",
    "                           'southern metal', 'pagan metal', 'dark metal', 'djent', 'industrial metal', \n",
    "                           'pirate metal', 'nu metal', 'folk metal', 'alternative metal', 'metalcore', \n",
    "                           'sludge metal', 'math rock', 'grindcore', 'screamo', 'thrashcore',\n",
    "                          'hatecore', 'symphonic metal&xe', 'death &aposn&apos roll', 'death  metal', 'pagan metal&xe']\n",
    "for unique_genre in groupe_metal_alternatif:\n",
    "    col_songs['genre'] = col_songs['genre'].replace(unique_genre, 'Metal alternatif')"
   ]
  },
  {
   "cell_type": "code",
   "execution_count": 35,
   "id": "cebb700a",
   "metadata": {},
   "outputs": [],
   "source": [
    "film = ['soundtracktelevision', 'soundtrackmusical', 'musical', 'children\\'s music', 'soundtrack']\n",
    "for unique_genre in film:\n",
    "    col_songs['genre'] = col_songs['genre'].replace(unique_genre, 'Film')"
   ]
  },
  {
   "cell_type": "code",
   "execution_count": 36,
   "id": "c3a2e95f",
   "metadata": {},
   "outputs": [],
   "source": [
    "autres = ['unknown', 'unk', \"children's music\", 'protest song', 'y&xe-y&xe', 'ax&xe', 'christmas', 'parody',\n",
    "         'pub rock', 'cabaret&xe', 'dark cabaret', 'forr&xf', 'junkanoo', 'soca', 'volkslied', 'anti-folk', \n",
    "          'volkst&xfcmlich', 'humppa&xe', 'humppa', 'children&aposs music', 'baroque pop', 'comic opera', \n",
    "          'medieval', 'minnesang', 'modern classical', 'neoclassical', 'symphonic rock', 'spoken word',\n",
    "         'chiptune', 'mashup', 'nintendocore', 'outsider music', 'singer-songwriter', 'visual kei',\n",
    "         'ethereal wave', 'hamburger schule', 'post-industrial', 'neue deutsche todeskunst', 'neue deutsche h&xerte',\n",
    "         'gothic', 'new age', 'mixed', 'shoegazing&xf&xe', 'avant-garde', 'children&aposs music&xe', 'neue deutsche welle', \n",
    "          'comedy rock', 'dark wave&xf&xe', 'progressive bluegrass', 'noise pop', 'bai&xeo', 'singer-songwriter&xe', \n",
    "          'post-punk&xe', 'post-rock&xe', 'visual kei&xe', '43:40']\n",
    "\n",
    "for unique_genre in autres:\n",
    "    col_songs['genre'] = col_songs['genre'].replace(unique_genre, 'Autres')"
   ]
  },
  {
   "cell_type": "code",
   "execution_count": 37,
   "id": "358ebf84",
   "metadata": {},
   "outputs": [],
   "source": [
    "punk = ['hardcore punk', 'street punk', 'oi-punk', 'crust punk', 'anarcho-punk', 'punk cabaret', \n",
    "        'horror punk', 'horror punk&xf&xe', 'melodic hardcore', 'skate punk', 'psychobilly', 'riot grrrl', 'powerviolence',\n",
    "       'deutschpunk', 'crack rock steady', 'queercore', 'deutschpunk', 'steampunk', 'post-punk', 'rock against communism',\n",
    "       'garage punk', 'j-punk', 'ska punk&xe']\n",
    "for unique_genre in punk:\n",
    "    col_songs['genre'] = col_songs['genre'].replace(unique_genre, 'Punk')"
   ]
  },
  {
   "cell_type": "code",
   "execution_count": null,
   "id": "40484f53",
   "metadata": {},
   "outputs": [],
   "source": []
  },
  {
   "cell_type": "code",
   "execution_count": 38,
   "id": "318f6b25",
   "metadata": {},
   "outputs": [],
   "source": [
    "# Remplacez les valeurs vides dans la colonne 'genre' par 'Autres'\n",
    "col_songs.loc[col_songs['genre'] == '', 'genre'] = 'Autres'"
   ]
  },
  {
   "cell_type": "code",
   "execution_count": null,
   "id": "a026dae1",
   "metadata": {},
   "outputs": [],
   "source": []
  },
  {
   "cell_type": "code",
   "execution_count": 39,
   "id": "d2117a83",
   "metadata": {},
   "outputs": [
    {
     "data": {
      "text/plain": [
       "29"
      ]
     },
     "execution_count": 39,
     "metadata": {},
     "output_type": "execute_result"
    }
   ],
   "source": [
    "len(col_songs['genre'].unique())"
   ]
  },
  {
   "cell_type": "code",
   "execution_count": 40,
   "id": "e87bf655",
   "metadata": {},
   "outputs": [],
   "source": [
    "col_songs['genre'] = col_songs['genre'].fillna('unknown')"
   ]
  },
  {
   "cell_type": "code",
   "execution_count": 41,
   "id": "9937b20b",
   "metadata": {},
   "outputs": [
    {
     "data": {
      "text/plain": [
       "29"
      ]
     },
     "execution_count": 41,
     "metadata": {},
     "output_type": "execute_result"
    }
   ],
   "source": [
    "len(col_songs['genre'].unique())"
   ]
  },
  {
   "cell_type": "code",
   "execution_count": 42,
   "id": "54185c52",
   "metadata": {},
   "outputs": [
    {
     "data": {
      "text/plain": [
       "array(['Rock alternatif', 'Autres', 'Metal extreme', 'Rock classique',\n",
       "       'Metal classique', 'Metal alternatif', 'Pop', 'Classical', 'Folk',\n",
       "       'Electronique expérimentale', 'Musique latine', 'Punk', 'Hip-Hop',\n",
       "       'Electronic', 'Rock psychédélique', 'Populaires International',\n",
       "       'Dance Electro', 'R&B/Soul', 'Country', 'Musique religieuse',\n",
       "       'Jazz', 'Reggae', 'Variété', 'Autres genres musicaux',\n",
       "       'Rock expérimental', 'Musique du Monde', 'Blues', 'Film', 'Rap'],\n",
       "      dtype=object)"
      ]
     },
     "execution_count": 42,
     "metadata": {},
     "output_type": "execute_result"
    }
   ],
   "source": [
    "col_songs['genre'].unique()"
   ]
  },
  {
   "cell_type": "code",
   "execution_count": 43,
   "id": "5fb4d04e",
   "metadata": {},
   "outputs": [
    {
     "name": "stdout",
     "output_type": "stream",
     "text": [
      "Empty DataFrame\n",
      "Columns: [album_genre, artist, albumTitle, title, genre]\n",
      "Index: []\n"
     ]
    }
   ],
   "source": [
    "empty_genre_rows = col_songs.loc[col_songs['genre'] == '']\n",
    "\n",
    "# Maintenant, affichez les valeurs de la colonne 'album_genre' dans ces lignes\n",
    "empty_genre_album_genres = empty_genre_rows\n",
    "print(empty_genre_album_genres)"
   ]
  },
  {
   "cell_type": "code",
   "execution_count": null,
   "id": "17b33483",
   "metadata": {},
   "outputs": [],
   "source": []
  },
  {
   "cell_type": "code",
   "execution_count": 44,
   "id": "d4856222",
   "metadata": {},
   "outputs": [
    {
     "name": "stdout",
     "output_type": "stream",
     "text": [
      "['Rock alternatif' 'Autres' 'Metal extreme' 'Rock classique'\n",
      " 'Metal classique' 'Metal alternatif' 'Pop' 'Classical' 'Folk'\n",
      " 'Electronique expérimentale' 'Musique latine' 'Punk' 'Hip-Hop'\n",
      " 'Electronic' 'Rock psychédélique' 'Populaires International'\n",
      " 'Dance Electro' 'R&B/Soul' 'Country' 'Musique religieuse' 'Jazz' 'Reggae'\n",
      " 'Variété' 'Autres genres musicaux' 'Rock expérimental' 'Musique du Monde'\n",
      " 'Blues' 'Film' 'Rap']\n",
      "29\n"
     ]
    }
   ],
   "source": [
    "import pandas as pd\n",
    "\n",
    "# Créez une expression régulière pour correspondre aux genres commençant par une majuscule\n",
    "pattern = '^[A-Z].*'\n",
    "\n",
    "# Utilisez str.match pour filtrer les genres correspondant au modèle\n",
    "filtered_genres = col_songs['genre'][col_songs['genre'].str.match(pattern)]\n",
    "\n",
    "# Affichez les genres filtrés\n",
    "print(filtered_genres.unique())\n",
    "print(len(filtered_genres.unique()))"
   ]
  },
  {
   "cell_type": "code",
   "execution_count": 45,
   "id": "1ca33305",
   "metadata": {},
   "outputs": [
    {
     "name": "stdout",
     "output_type": "stream",
     "text": [
      "[]\n",
      "0\n"
     ]
    }
   ],
   "source": [
    "import pandas as pd\n",
    "\n",
    "# Créez une expression régulière pour correspondre aux genres commençant par une majuscule\n",
    "pattern = '^[a-z].*'\n",
    "\n",
    "# Utilisez str.match pour filtrer les genres correspondant au modèle\n",
    "filtered_genres = col_songs['genre'][col_songs['genre'].str.match(pattern)]\n",
    "\n",
    "# Affichez les genres filtrés\n",
    "print(filtered_genres.unique())\n",
    "print(len(filtered_genres.unique()))"
   ]
  },
  {
   "cell_type": "code",
   "execution_count": 46,
   "id": "d5f7f78b",
   "metadata": {},
   "outputs": [
    {
     "data": {
      "text/plain": [
       "Index(['album_genre', 'artist', 'albumTitle', 'title', 'genre'], dtype='object')"
      ]
     },
     "execution_count": 46,
     "metadata": {},
     "output_type": "execute_result"
    }
   ],
   "source": [
    "col_songs.columns"
   ]
  },
  {
   "cell_type": "code",
   "execution_count": 47,
   "id": "71a40831",
   "metadata": {},
   "outputs": [],
   "source": [
    "col_songs = col_songs[['genre', 'album_genre', 'artist', 'albumTitle', 'title']]"
   ]
  },
  {
   "cell_type": "code",
   "execution_count": 48,
   "id": "05b7108d",
   "metadata": {},
   "outputs": [
    {
     "data": {
      "text/plain": [
       "Index(['genre', 'album_genre', 'artist', 'albumTitle', 'title'], dtype='object')"
      ]
     },
     "execution_count": 48,
     "metadata": {},
     "output_type": "execute_result"
    }
   ],
   "source": [
    "col_songs.columns"
   ]
  },
  {
   "cell_type": "code",
   "execution_count": 49,
   "id": "1baccff2",
   "metadata": {},
   "outputs": [],
   "source": [
    "col_songs = col_songs.sort_values(by=['genre', 'album_genre', 'artist', 'albumTitle'])"
   ]
  },
  {
   "cell_type": "code",
   "execution_count": null,
   "id": "3e7ed1c7",
   "metadata": {},
   "outputs": [],
   "source": []
  },
  {
   "cell_type": "code",
   "execution_count": 50,
   "id": "f0e2a439",
   "metadata": {},
   "outputs": [],
   "source": [
    "unique_artists = np.random.choice(col_songs['artist'].unique(), 350, replace=False)"
   ]
  },
  {
   "cell_type": "code",
   "execution_count": 51,
   "id": "c028657c",
   "metadata": {},
   "outputs": [
    {
     "data": {
      "text/plain": [
       "(10677, 5)"
      ]
     },
     "execution_count": 51,
     "metadata": {},
     "output_type": "execute_result"
    }
   ],
   "source": [
    "col_songs_filtered = col_songs[col_songs['artist'].isin(unique_artists)]\n",
    "\n",
    "col_songs_filtered.shape"
   ]
  },
  {
   "cell_type": "code",
   "execution_count": null,
   "id": "31cde96f",
   "metadata": {},
   "outputs": [],
   "source": []
  },
  {
   "cell_type": "code",
   "execution_count": 53,
   "id": "1c356a6f",
   "metadata": {},
   "outputs": [
    {
     "name": "stdout",
     "output_type": "stream",
     "text": [
      "Données hiérarchiques enregistrées dans hierarchical_data.json\n"
     ]
    }
   ],
   "source": [
    "import json\n",
    "# Define the column names to access in the DataFrame\n",
    "genre_col = 'genre'\n",
    "album_genre_col = 'album_genre'\n",
    "artist_col = 'artist'\n",
    "albumTitle_col = 'albumTitle'\n",
    "title_col = 'title'\n",
    "\n",
    "# Fonction pour convertir vos données en une structure hiérarchique\n",
    "def convert_to_hierarchy(data):\n",
    "    hierarchy = {\n",
    "        \"name\": \"root\",\n",
    "        \"children\": []\n",
    "    }\n",
    "\n",
    "    for index, row in data.iterrows():\n",
    "        current_node = hierarchy\n",
    "\n",
    "        genre = row[genre_col]\n",
    "        album_genre = row[album_genre_col]\n",
    "        artist = row[artist_col]\n",
    "        albumTitle = row[albumTitle_col]\n",
    "\n",
    "        for property in [genre, album_genre, artist, albumTitle]:\n",
    "            node = next((child for child in current_node[\"children\"] if child[\"name\"] == property), None)\n",
    "\n",
    "            if node is None:\n",
    "                node = {\"name\": property, \"children\": []}\n",
    "                current_node[\"children\"].append(node)\n",
    "\n",
    "            current_node = node\n",
    "\n",
    "        current_node[\"children\"].append({\"name\": row[title_col], \"value\": 1})\n",
    "\n",
    "    return hierarchy\n",
    "\n",
    "hierarchical_data = convert_to_hierarchy(col_songs_filtered)\n",
    "\n",
    "# Enregistrez le résultat dans un fichier JSON\n",
    "with open(\"hierarchical_data.json\", \"w\") as output_file:\n",
    "    json.dump(hierarchical_data, output_file, indent=2)\n",
    "\n",
    "print(\"Données hiérarchiques enregistrées dans hierarchical_data.json\")"
   ]
  },
  {
   "cell_type": "code",
   "execution_count": null,
   "id": "86435f6f",
   "metadata": {},
   "outputs": [],
   "source": []
  }
 ],
 "metadata": {
  "kernelspec": {
   "display_name": "Python 3 (ipykernel)",
   "language": "python",
   "name": "python3"
  },
  "language_info": {
   "codemirror_mode": {
    "name": "ipython",
    "version": 3
   },
   "file_extension": ".py",
   "mimetype": "text/x-python",
   "name": "python",
   "nbconvert_exporter": "python",
   "pygments_lexer": "ipython3",
   "version": "3.9.13"
  }
 },
 "nbformat": 4,
 "nbformat_minor": 5
}
